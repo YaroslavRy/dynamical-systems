{
 "cells": [
  {
   "cell_type": "code",
   "execution_count": 2,
   "metadata": {
    "collapsed": true
   },
   "outputs": [],
   "source": [
    "\n",
    "from scipy.integrate import odeint\n",
    "import numpy as np\n",
    "from matplotlib import pyplot as plt\n",
    "from IPython.display import set_matplotlib_formats\n",
    "import matplotlib_inline\n",
    "# matplotlib_inline.backend_inline.set_matplotlib_formats('retina')\n",
    "plt.style.use('seaborn')"
   ]
  },
  {
   "source": [],
   "cell_type": "markdown",
   "metadata": {}
  },
  {
   "cell_type": "code",
   "execution_count": null,
   "outputs": [],
   "source": [
    "\n",
    "def pend(y, t, k, kp, km, vin):\n",
    "    atp, glucose = y\n",
    "    dGdt = 2 * k * glucose * atp - (kp * atp / (atp + km))\n",
    "    dATPdt = vin - (k * glucose * atp)\n",
    "    dydt = [dGdt, dATPdt]\n",
    "    return dydt"
   ],
   "metadata": {
    "collapsed": false,
    "pycharm": {
     "name": "#%%\n"
    }
   }
  }
 ],
 "metadata": {
  "kernelspec": {
   "name": "python3",
   "display_name": "Python 3",
   "language": "python"
  },
  "interpreter": {
   "hash": "752579dbebe7f4dfe7c1aa72eac13e23fc88be2cc1ea7ab14e1f8d69b2d97d12"
  }
 },
 "nbformat": 4,
 "nbformat_minor": 0
}